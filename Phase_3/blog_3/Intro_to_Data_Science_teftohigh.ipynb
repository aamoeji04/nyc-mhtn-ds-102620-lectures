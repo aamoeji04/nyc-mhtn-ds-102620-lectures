{
 "cells": [
  {
   "cell_type": "code",
   "execution_count": 10,
   "metadata": {},
   "outputs": [
    {
     "name": "stdout",
     "output_type": "stream",
     "text": [
      "👍\n"
     ]
    }
   ],
   "source": [
    "from emoji import emojize as emoji\n",
    "print(emojize(\":thumbs_up:\"))"
   ]
  },
  {
   "cell_type": "markdown",
   "metadata": {},
   "source": [
    "Intro to Data Science \n",
    "\"I spent my entire life believing I was lazy, turns out it's not true. And it's probably not true for you either.\" - Andrea Sandoval\n",
    "For this story, I want to make it a little interesting. Since this is an ode to Data Science (DS) and Python, I have linked a pretty cool repository named side_hussle from my GitHub, where I have the Jupyter Notebook version of this blog called Intro to Data Science. The notebook is this very blog but in lovely Python code to include some fun visuals (emojis). With that being said, and no further adieu, let me tell you about how I got here, this is my introduction to data science. \n",
    "Buffalo\n",
    "It started in March 2020, right before Spring Break. My University had just closed, and it was up in the air whether they would open after the holiday. I had two options: stay in my apartment near school alone, without any means of transportation or getting food and wait for the school to come up with a plan, or go to Syracuse with my boyfriend, Jason, and stay with his family until mine can get me. It was an easy choice really, I love my boyfriend's  family. So I packed and cleaned my apartment in preparation to leave it for a while and head to Syracuse to stay indefinitely. However, I did plan on retuning before my lease ended to try to salvage and enjoy my last bit of autonomy before permanently moving back home, so I didn't pack an absurd amount of things. \n",
    "I was actually really amped up amidst all the chaos and uncertainty, but that's only because it didn't seem like it was really happening… \n",
    "Syracuse \n",
    "After a week out of Buffalo and Spring Break was over, classes had restarted but were now remote (you know the deal). Luckily for me, however, due to the abruptness of everything regarding quarantine and the nature of my curriculum, my professors were not able to hold live lectures and labs, so either my class released pre-recorded videos from previous years or the labs were canceled all together. I guess one could argued this was a travesty because of education and tuition and it's value and whatnot, but I guess I just wasn't in the mindset to care (more on that later).\n",
    "So now I am in the lovely 'Cuse with with my Guy, quarantined, and just enjoying the energy around me. One day, while taking a break from my work and scrolling through the infamous TikTok, I came across a video by a user named Andrea Sandoval. Her video was basically about how she was able to land a tech job at 19 with a salary of 82K without even finishing college. She explained how she did it through Flatiron School, which was a \"coding bootcamp\", then BOOM! It was like the first time I had heard the phrase. Something about what she said unlocked a door in my mind that told me there's more to life and a career than this ultimate PharmD path that I've reluctantly put myself on and is already uncertain of. Andrea even showed the receipts of her compensation from ADP! So guess what I did with that? I liked the video and ignored it for 4 months. I mean I was still studying to complete my bachelors in Biology so… needless to say I was a bit preoccupied.\n",
    "Haha it's funny because in the TikTok she mentions how half a semester into her university studying Computer Science, she was like \"nope, f**k this, nope nope nope\". I did not have the same courage but I wouldn't regret my college days for anything in the world - they literally molded me to who I am today. \n",
    "I stayed in Syracuse for a little over a month before my family was able to pick me up. When they did, it was a very bittersweet moment. I had thoroughly enjoyed my Easter with the Ekure's and the whole experience was honestly surreal and beautiful but it was time to end for now and go home. I really missed my family anyway. \n",
    "Post-Grad\n",
    "The day after my commencement from the University at Buffalo (in May), I peered on the website for the boot camp that Andrea had mentioned and completed my first lesson in Learn.co. It was in HTML for software engineering and I hated it. Maybe coding wasn't for me. I hadn't told anybody at this point, and I was not planning to… yet.\n",
    "Now, jump 2 months later. It was July, I had graduated, relocated back downstate (while the rest of my possessions were still Upstate), went through the ups and downs of the Black Lives Matter Movement, and documented a historical amount of meme-able data in my phone from quarantine and beyond (2020 amirite). Between all of that, I had not done a lick of code or even thought about it. I randomly revisited my liked videos from TikTok and came across Andrea's video again. I started to re-contemplate, the world of coding… would I fit in? HTML was too much for me, man. The notion of changing my career away from the medical field was completely beyond what I thought I could do right out of college. I had just spent 5 years ingesting biology and chemistry. I knew absolutely nothing about coding but something about the boot camp Andrea mentioned, Flatiron, created a sort of tear in the bubble I called my comfort zone. One that I never knew was possible for me this quickly. So I began my thorough research. \n",
    "Kickoff  \n",
    "Since I quickly realized that the HTML language was absolutely not for me, I turned to YouTube to just randomly see what I can learn. The first video I followed was Learn Python - Full Course for Beginners [Tutorial]. I went through the process and installed what I needed to install. Next thing you know, I had printed \"Hello World\". Once I did that, once that line ran, I knew it was over. Python was my language. So then, I got back onto Flatiron's website to see what other programs they offered. \n",
    "On their career-change courses page, I read about what each program entailed and how their graduates did. I weighed the course requirements with my interests and the reason why DS stood out to me was honestly because their description used words like \"data scientist\" and \"tech industry\" and \"coveted\". See, my ultimate goal in this life of mine, is to be extraordinary, and those sounded like extraordinary words to me. Upon further research into what exactly DS was, I saw that basically one, it included the study of statistics (which I absolutely adored in college), and two, it utilized Python. \n",
    "I mean could I have really asked for a better match!?\n",
    "Still remaining silent about all of my career plans, I started watching countless hours of more YouTube videos for different perspectives other people had on getting into Flatiron and other schools, as well as information about DS (there is not much out there). I did my research in a way that sort of made me anxious but excited, so I knew I needed to continue. This was a different kind of anxiety, I knew it. \n",
    "A few things that really sealed the deal for me to begin Flatiron's DS  program perp-work were the following:\n",
    "Income Shared Agreement\n",
    "Location in NYC (now on Zoom)\n",
    "Emphasis on Community\n",
    "The Curriculum\n",
    "Reviews from research\n",
    "Average salary of DS and Software engineering graduates\n",
    "Diving In\n",
    "After I had decided that Flatiron was the school I would go for, it wasn't until August 3rd that I actually started on on my boot camp prep work.\n",
    "5 weeks, 15 lessons, and 1 Buffalo apartment move out later, and it was time for my first Cultural interview.  \n",
    "By this time, only Jason and my sister, Adanna, knew about my plans.\n",
    "After I had passed the interview, I knew all that was left for me to do was show my technical aptitude, and if I was truly serious about becoming a data scientist, I was going to ace that second interview no matter what. So, basically, after the first interview I knew I was ready to reveal to my mother my plan. \n",
    "A turn for the better\n",
    "During a walk that I was having with my mother one evening, I was feeling particularly nervous. I was ready to tell her that I didn't want to be a pharmacist anymore and I was confident about it. I knew what I wanted and I never felt more sure. So as we walked, I just came out and told her everything. The entire timeline of how I got to where I was from March to September. To my surprise, she was 100% on board! I was a little shocked, not going to lie. She told me that she knew I wasn't too keen on becoming a Pharmacist when I asked to take a year off to \"take a break\" from academics back in 2019. \n",
    "It reminded me of the quote from Andrea at the start of this blog, I wasn't a lazy person during my bio studies and I didn't really need a break, I was just not interested in what I was learning.  \n",
    "Needless to say, my mom was very very excited to hear that I had chosen a path, confidently. Then, when I told her that I had passed my first interview, she stopped walking and looked at me with so much more excitement! I was just chilling like it wasn't a big deal even though I was doing cartwheels on the inside. Telling my mom all about Flatiron, the research I'd done, and the accomplishments I had already made, and how I was feeling about it all was so fulfilling. Especially when I think back to how many hours I had spent passively and silently entertaining this big decision. \n",
    "I told her that my last interview was a week before the first day and all she had to say was \"I know you'll get in\". \n",
    "3.5/5 Phases Complete\n",
    "Day 1: Phase 1: \"The first day of the rest of my life!\"\n",
    "It was day 1, orientation day and I met my new cohort. Let me just preface the rest of this blog by saying I got so unbelievably lucky with the group of people I ended up with. I'm sure many people say this but, like, I really believe it! It seems too good to be true. We all got along so well and the amount of respect in the Zoom classes that I could sense was incredible. (I really like my DS 102620 cohort)\n",
    "I called this the first day of the rest of my life because I truly believe that the knowledge I gain from this program will take me places I never even thought would be possible for someone like me (but I consistently maintained the mindset of wanting to be extraordinary).\n",
    "Day 34: Phase 2: \"Wow, I'm really doing doing this!\"\n",
    "Now skip all the way to day 34. The second code challenge had been completed and so was the project. I have no choice but to note this week as being the most exhausting and rewarding week I had every experienced in my whole movement through academia; this would even include my years in college. The project we were assigned was overwhelming, labor-intensive, and frustrating at many times, but I did it. I did it, and not once throughout all my meltdowns did I feel like I was necessarily doing the wrong thing. I created a model that could predict housing prices, and I did it from scratch! I didn't believe it when I was told that I passed (especially because they say Phase 2 is the most difficult phase). I'm really doing this!\n",
    "Day 47: Phase 3: \"Accountability!\"\n",
    "Day 47 is the day after I passed the phase 3 code challenge. After the craziness and anxiety phase 2 brought me and my cohort, we decided to get serious shortly after beginning this module and create an accountability group (briefly named sooper-secret-cnvs-accountability-group-102620). In the group, we kept track of what we had covered during lecture that day, discussed what we should have prepared for the next day, and shared knowledge and answered each other's questions for better clarification and intuition. It was great! This group made my motivation skyrocket and I never felt more close to my cohort, even in the midst of preparing for a possibly difficult exam. That being said, we all passed and we did it by holding each other up (and accountable). \n",
    "Photo by Fallon Michael on UnsplashNow, here I am, at the end of blog post 3 in December. Is it strange to say that sometimes I feel like I still haven't accomplished much? I guess that's just the harsh critique within me. So far, my mind has been so calm during the many storms I've experienced over the past few weeks. I know it's just the tip of the iceberg."
   ]
  }
 ],
 "metadata": {
  "kernelspec": {
   "display_name": "learn-env",
   "language": "python",
   "name": "learn-env"
  },
  "language_info": {
   "codemirror_mode": {
    "name": "ipython",
    "version": 3
   },
   "file_extension": ".py",
   "mimetype": "text/x-python",
   "name": "python",
   "nbconvert_exporter": "python",
   "pygments_lexer": "ipython3",
   "version": "3.6.9"
  },
  "toc": {
   "base_numbering": 1,
   "nav_menu": {},
   "number_sections": true,
   "sideBar": true,
   "skip_h1_title": false,
   "title_cell": "Table of Contents",
   "title_sidebar": "Contents",
   "toc_cell": false,
   "toc_position": {},
   "toc_section_display": true,
   "toc_window_display": false
  }
 },
 "nbformat": 4,
 "nbformat_minor": 4
}
