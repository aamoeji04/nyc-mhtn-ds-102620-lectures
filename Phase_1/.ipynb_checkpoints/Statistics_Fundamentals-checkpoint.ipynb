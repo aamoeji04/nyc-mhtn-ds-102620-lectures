{
 "cells": [
  {
   "cell_type": "markdown",
   "metadata": {},
   "source": [
    "# Statistics Fundamentals \n",
    "\n",
    "_October 27, 2020_\n",
    "\n",
    "Agenda today:\n",
    "- Measure of central tendency: mean, median, mode\n",
    "- Measure of dispersion: variance, standard deviation\n",
    "- Measure of relationship: covariance and correlation"
   ]
  },
  {
   "cell_type": "code",
   "execution_count": 9,
   "metadata": {},
   "outputs": [],
   "source": [
    "# packages written as programs in pythong\n",
    "import numpy as np \n",
    "import matplotlib.pyplot as plt"
   ]
  },
  {
   "cell_type": "markdown",
   "metadata": {},
   "source": [
    "## Part I. Mean, Median, and Mode\n",
    "What are the definition of the three measurements?"
   ]
  },
  {
   "cell_type": "code",
   "execution_count": 10,
   "metadata": {
    "scrolled": true
   },
   "outputs": [
    {
     "data": {
      "text/plain": [
       "(array([4., 2., 1., 1., 1., 2., 1., 2., 2., 1.]),\n",
       " array([10. , 11.6, 13.2, 14.8, 16.4, 18. , 19.6, 21.2, 22.8, 24.4, 26. ]),\n",
       " <a list of 10 Patch objects>)"
      ]
     },
     "execution_count": 10,
     "metadata": {},
     "output_type": "execute_result"
    },
    {
     "data": {
      "image/png": "[encoded data removed]",
      "text/plain": [
       "<Figure size 432x288 with 1 Axes>"
      ]
     },
     "metadata": {},
     "output_type": "display_data"
    }
   ],
   "source": [
    "array = [10,11,11,12,11,13,14,16,17,18,19,20,22,24,26,22,24]\n",
    "# plot it out and examine it \n",
    "plt.style.use('fivethirtyeight')\n",
    "plt.hist(array)"
   ]
  },
  {
   "cell_type": "code",
   "execution_count": 11,
   "metadata": {},
   "outputs": [
    {
     "data": {
      "text/plain": [
       "17.058823529411764"
      ]
     },
     "execution_count": 11,
     "metadata": {},
     "output_type": "execute_result"
    }
   ],
   "source": [
    "np.mean(array)"
   ]
  },
  {
   "cell_type": "code",
   "execution_count": 12,
   "metadata": {},
   "outputs": [
    {
     "data": {
      "text/plain": [
       "17.0"
      ]
     },
     "execution_count": 12,
     "metadata": {},
     "output_type": "execute_result"
    }
   ],
   "source": [
    "np.median(array)"
   ]
  },
  {
   "cell_type": "code",
   "execution_count": 13,
   "metadata": {},
   "outputs": [
    {
     "data": {
      "text/plain": [
       "ModeResult(mode=array([11]), count=array([3]))"
      ]
     },
     "execution_count": 13,
     "metadata": {},
     "output_type": "execute_result"
    }
   ],
   "source": [
    "from scipy import stats \n",
    "stats.mode(array)"
   ]
  },
  {
   "cell_type": "markdown",
   "metadata": {},
   "source": [
    "What is the above plot called? What kind of values can it be used to represent?"
   ]
  },
  {
   "cell_type": "markdown",
   "metadata": {},
   "source": [
    "## Part II. Measure of Dispersion\n",
    "Two measurements of dispersion we will be concerned with is **variance** and **standard deviation**. They are both measurement of variability of dataset. Why might we need a measure of variability in addition to central tendency?"
   ]
  },
  {
   "cell_type": "markdown",
   "metadata": {},
   "source": [
    "#### Variance calculation:\n",
    "$$ \\large \\sigma^2 = \\dfrac{1}{n}\\displaystyle\\sum^n_{i=1}(x_i-\\mu)^2 $$\n",
    "\n",
    "#### Standard deviation calculation:\n",
    "$$ \\large \\sigma = \\sqrt{\\dfrac{1}{n}\\displaystyle\\sum^n_{i=1}(x_i-\\mu)^2} $$"
   ]
  },
  {
   "cell_type": "code",
   "execution_count": 58,
   "metadata": {},
   "outputs": [],
   "source": [
    "# exercises\n",
    "\n",
    "# can you write a function that takes in an array, calculate the variance and standard deviation?\n",
    "def calculate_variance(array):\n",
    "    '''\n",
    "    calculate the variance of an array\n",
    "    '''\n",
    "    total = 0\n",
    "    for x in array:\n",
    "        n = len(array)\n",
    "        var = (x - (sum(array)/n))**2\n",
    "        total += var\n",
    "        varience = total / n\n",
    "    return varience\n",
    "        "
   ]
  },
  {
   "cell_type": "code",
   "execution_count": 59,
   "metadata": {},
   "outputs": [
    {
     "data": {
      "text/plain": [
       "26.52595155709342"
      ]
     },
     "execution_count": 59,
     "metadata": {},
     "output_type": "execute_result"
    }
   ],
   "source": [
    "calculate_variance(array)"
   ]
  },
  {
   "cell_type": "code",
   "execution_count": 70,
   "metadata": {},
   "outputs": [],
   "source": [
    "import math\n",
    "def calculate_std(array):\n",
    "    '''\n",
    "    calculate the standard deviation of an array\n",
    "    '''\n",
    "    stdv = math.sqrt(calculate_variance(array))\n",
    "    return stdv"
   ]
  },
  {
   "cell_type": "code",
   "execution_count": 71,
   "metadata": {},
   "outputs": [
    {
     "data": {
      "text/plain": [
       "5.150335091728831"
      ]
     },
     "execution_count": 71,
     "metadata": {},
     "output_type": "execute_result"
    }
   ],
   "source": [
    "calculate_std(array)"
   ]
  },
  {
   "cell_type": "markdown",
   "metadata": {},
   "source": [
    "## Part III. Covariance and Correlation\n",
    "Covariance and correlation measures the degree of two variables' relationship. \n",
    "\n",
    "#### Covariance calculation:\n",
    "$$Cov_{X,Y} = \\dfrac{1}{n}\\displaystyle\\sum_{i=1}^{n}(x_i -\\mu_x)(y_i - \\mu_y)$$\n",
    "\n",
    "#### Correlation calculation:\n",
    "$$ r = \\frac{cov(X,Y)} {\\sigma_x  \\sigma_y}$$"
   ]
  },
  {
   "cell_type": "markdown",
   "metadata": {},
   "source": [
    "<img src= 'https://raw.githubusercontent.com/learn-co-curriculum/dsc-correlation-covariance/master/images/correx.svg'>"
   ]
  },
  {
   "cell_type": "code",
   "execution_count": 77,
   "metadata": {},
   "outputs": [],
   "source": [
    "## exercises\n",
    "array1 = [1,2,3,4,5]\n",
    "array2 = [6,7,8,9,10]\n",
    "# write a function that calculates the correlation and covariance of two arrays \n",
    "\n",
    "def calculate_covariance(array1, array2):\n",
    "    '''\n",
    "    calculate the covariance of two arrays\n",
    "    '''\n",
    "    for x in array1:\n",
    "        n = len(array1)\n",
    "        co = x - sum(array1)/n\n",
    "    total = 0\n",
    "    for y in array2:\n",
    "        n = len(array2)\n",
    "        l = len(array1) + len(array2)\n",
    "        var = y - sum(array2)/n\n",
    "        covar = co * var\n",
    "        total += covar\n",
    "        covarience = total/l\n",
    "    return covarience"
   ]
  },
  {
   "cell_type": "code",
   "execution_count": 78,
   "metadata": {},
   "outputs": [
    {
     "data": {
      "text/plain": [
       "0.0"
      ]
     },
     "execution_count": 78,
     "metadata": {},
     "output_type": "execute_result"
    }
   ],
   "source": [
    "calculate_covariance(array1, array2)"
   ]
  },
  {
   "cell_type": "code",
   "execution_count": 80,
   "metadata": {},
   "outputs": [
    {
     "data": {
      "text/plain": [
       "2.0"
      ]
     },
     "execution_count": 80,
     "metadata": {},
     "output_type": "execute_result"
    }
   ],
   "source": [
    "calculate_variance(array1)"
   ]
  },
  {
   "cell_type": "code",
   "execution_count": 81,
   "metadata": {},
   "outputs": [
    {
     "data": {
      "text/plain": [
       "1.4142135623730951"
      ]
     },
     "execution_count": 81,
     "metadata": {},
     "output_type": "execute_result"
    }
   ],
   "source": [
    "calculate_std(array1)"
   ]
  },
  {
   "cell_type": "code",
   "execution_count": 82,
   "metadata": {},
   "outputs": [
    {
     "data": {
      "text/plain": [
       "2.0"
      ]
     },
     "execution_count": 82,
     "metadata": {},
     "output_type": "execute_result"
    }
   ],
   "source": [
    "calculate_variance(array2)"
   ]
  },
  {
   "cell_type": "code",
   "execution_count": 83,
   "metadata": {},
   "outputs": [
    {
     "data": {
      "text/plain": [
       "1.4142135623730951"
      ]
     },
     "execution_count": 83,
     "metadata": {},
     "output_type": "execute_result"
    }
   ],
   "source": [
    "calculate_std(array2)"
   ]
  },
  {
   "cell_type": "code",
   "execution_count": null,
   "metadata": {},
   "outputs": [],
   "source": [
    "def calculate_correlation(array1, array2):\n",
    "    '''\n",
    "    calculate the correlation of two arrays\n",
    "    '''\n",
    "    coor = calculate_corvariance(array1, array2)/(calculate_std(array1)*calulate_std(array2))\n",
    "    return coor"
   ]
  }
 ],
 "metadata": {
  "kernelspec": {
   "display_name": "Python 3",
   "language": "python",
   "name": "python3"
  },
  "language_info": {
   "codemirror_mode": {
    "name": "ipython",
    "version": 3
   },
   "file_extension": ".py",
   "mimetype": "text/x-python",
   "name": "python",
   "nbconvert_exporter": "python",
   "pygments_lexer": "ipython3",
   "version": "3.6.9"
  }
 },
 "nbformat": 4,
 "nbformat_minor": 2
}
