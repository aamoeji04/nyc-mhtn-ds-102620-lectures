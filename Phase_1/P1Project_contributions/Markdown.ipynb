{
 "cells": [
  {
   "cell_type": "code",
   "execution_count": 1,
   "metadata": {},
   "outputs": [],
   "source": [
    "# Headings"
   ]
  },
  {
   "cell_type": "markdown",
   "metadata": {},
   "source": [
    "# Heading 1 big\n",
    "## Heading 2 big\n",
    "### Heading 3 big\n",
    "#### Heading 4 big\n",
    "##### Heading 5 big\n",
    "###### Heading 6 big"
   ]
  },
  {
   "cell_type": "code",
   "execution_count": null,
   "metadata": {},
   "outputs": [],
   "source": [
    "# Italics\n",
    "# *This text* is italic\n",
    "# _This text_ is italic"
   ]
  },
  {
   "cell_type": "markdown",
   "metadata": {},
   "source": [
    "*This text* is italic\n",
    "_This text_ is italic"
   ]
  },
  {
   "cell_type": "code",
   "execution_count": 2,
   "metadata": {},
   "outputs": [],
   "source": [
    "# Strong\n",
    "# **This text** is strong\n",
    "# __This text__ is strong"
   ]
  },
  {
   "cell_type": "markdown",
   "metadata": {},
   "source": [
    "**This text** is strong\n",
    "__This text__ is strong"
   ]
  },
  {
   "cell_type": "code",
   "execution_count": null,
   "metadata": {},
   "outputs": [],
   "source": [
    "# Strikethrough"
   ]
  },
  {
   "cell_type": "markdown",
   "metadata": {},
   "source": [
    "~~This text~~ is strikethrough."
   ]
  },
  {
   "cell_type": "code",
   "execution_count": 3,
   "metadata": {},
   "outputs": [],
   "source": [
    "# Horizontal Rule\n",
    "# --\n",
    "# __"
   ]
  },
  {
   "cell_type": "markdown",
   "metadata": {},
   "source": [
    "---\n",
    "___"
   ]
  },
  {
   "cell_type": "code",
   "execution_count": null,
   "metadata": {},
   "outputs": [],
   "source": [
    "# Blockquote\n",
    "# > This is a quote."
   ]
  },
  {
   "cell_type": "markdown",
   "metadata": {},
   "source": [
    "> This is a quote."
   ]
  },
  {
   "cell_type": "code",
   "execution_count": null,
   "metadata": {},
   "outputs": [],
   "source": [
    "# Links\n",
    "# [Link name in brackets](Link)\n",
    "# [Link name in brackets](Link \"link title while hovering\")"
   ]
  },
  {
   "cell_type": "markdown",
   "metadata": {},
   "source": [
    "[Flatiron School](https://flatironschool.com/?utm_source=Google&utm_medium=ppc&utm_campaign=1783325438&utm_content=78331559958&utm_term=flatiron&uqaid=378328409026&CjwKCAjwnef6BRAgEiwAgv8mQTCpjKWsqZHw2vHAR-Sl_ZSb3eDN22-K8KWuy2_QMu9Sq-zShAyzDRoCd0IQAvD_BwE&gclid=CjwKCAjwnef6BRAgEiwAgv8mQTCpjKWsqZHw2vHAR-Sl_ZSb3eDN22-K8KWuy2_QMu9Sq-zShAyzDRoCd0IQAvD_BwE)\n",
    "[Flatiron School](https://flatironschool.com/?utm_source=Google&utm_medium=ppc&utm_campaign=1783325438&utm_content=78331559958&utm_term=flatiron&uqaid=378328409026&CjwKCAjwnef6BRAgEiwAgv8mQTCpjKWsqZHw2vHAR-Sl_ZSb3eDN22-K8KWuy2_QMu9Sq-zShAyzDRoCd0IQAvD_BwE&gclid=CjwKCAjwnef6BRAgEiwAgv8mQTCpjKWsqZHw2vHAR-Sl_ZSb3eDN22-K8KWuy2_QMu9Sq-zShAyzDRoCd0IQAvD_BwE \"Flatiron title diplayed with quotes\")"
   ]
  },
  {
   "cell_type": "code",
   "execution_count": null,
   "metadata": {},
   "outputs": [],
   "source": [
    "# Unordered Lists\n",
    "# * Item 1\n",
    "# * Item 2\n",
    "# * Item 3"
   ]
  },
  {
   "cell_type": "markdown",
   "metadata": {},
   "source": [
    "* Item 1\n",
    "* Item 2\n",
    "* Item 3"
   ]
  },
  {
   "cell_type": "code",
   "execution_count": null,
   "metadata": {},
   "outputs": [],
   "source": [
    "# Nested items\n",
    "# * Item 1\n",
    "# * Item 2\n",
    "# * Item 3\n",
    "#     * Nested Item 1\n",
    "#     * Nested Item 2\n",
    "#     * Nested Item 3"
   ]
  },
  {
   "cell_type": "markdown",
   "metadata": {},
   "source": [
    "* Item 1\n",
    "* Item 2\n",
    "* Item 3\n",
    "    * Nested Item 1\n",
    "    * Nested Item 2\n",
    "    * Nested Item 3"
   ]
  },
  {
   "cell_type": "code",
   "execution_count": null,
   "metadata": {},
   "outputs": [],
   "source": [
    "# Ordered List\n",
    "# 1. Item 1\n",
    "# 1. Item 2\n",
    "# 1. Item 3"
   ]
  },
  {
   "cell_type": "markdown",
   "metadata": {},
   "source": [
    "1. Item 1\n",
    "1. Item 2\n",
    "1. Item 3"
   ]
  },
  {
   "cell_type": "code",
   "execution_count": null,
   "metadata": {},
   "outputs": [],
   "source": [
    "# Inline Code Block\n",
    "# `<p>This is a paragraph</p>`"
   ]
  },
  {
   "cell_type": "markdown",
   "metadata": {},
   "source": [
    "`<p>This is a paragraph</p>`"
   ]
  },
  {
   "cell_type": "code",
   "execution_count": null,
   "metadata": {},
   "outputs": [],
   "source": [
    "# Image\n",
    "# ![Markdown Logo](location of the image)"
   ]
  },
  {
   "cell_type": "markdown",
   "metadata": {},
   "source": [
    "![Markdown Logo](https://markdown-here.com/img/icon256.png)"
   ]
  },
  {
   "cell_type": "code",
   "execution_count": null,
   "metadata": {},
   "outputs": [],
   "source": [
    "# GitHub Markdown"
   ]
  },
  {
   "cell_type": "code",
   "execution_count": 7,
   "metadata": {},
   "outputs": [],
   "source": [
    "# Code Blocks with special highlighting\n",
    "# ```bash\n",
    "# npm install\n",
    "# npm start\n",
    "# ```\n",
    "# ```Pythpn\n",
    "# def add(num1, num2):\n",
    "#     return num1 + num2\n",
    "# ```"
   ]
  },
  {
   "cell_type": "markdown",
   "metadata": {},
   "source": [
    "```Pythpn\n",
    "def add(num1, num2):\n",
    "    return num1 + num2\n",
    "```"
   ]
  },
  {
   "cell_type": "code",
   "execution_count": null,
   "metadata": {},
   "outputs": [],
   "source": [
    "# Tables\n",
    "# |Name    |Email            |\n",
    "# |--------|-----------------|\n",
    "# |Jane Doe|janedoe@email.com|\n",
    "# |John Doe|johndoe@email.com|"
   ]
  },
  {
   "cell_type": "markdown",
   "metadata": {},
   "source": [
    "|Name    |Email            |\n",
    "|--------|-----------------|\n",
    "|Jane Doe|janedoe@email.com|\n",
    "|John Doe|johndoe@email.com|"
   ]
  },
  {
   "cell_type": "code",
   "execution_count": null,
   "metadata": {},
   "outputs": [],
   "source": [
    "# Task Lists\n",
    "# Shows as cheks lists in github\n",
    "# *[x] Task 1\n",
    "# *[x] Task 2\n",
    "# *[ ] Task 3"
   ]
  },
  {
   "cell_type": "markdown",
   "metadata": {},
   "source": [
    "*[x] Task 1\n",
    "*[x] Task 2\n",
    "*[ ] Task 3"
   ]
  },
  {
   "cell_type": "code",
   "execution_count": null,
   "metadata": {},
   "outputs": [],
   "source": []
  }
 ],
 "metadata": {
  "kernelspec": {
   "display_name": "learn-env",
   "language": "python",
   "name": "learn-env"
  },
  "language_info": {
   "codemirror_mode": {
    "name": "ipython",
    "version": 3
   },
   "file_extension": ".py",
   "mimetype": "text/x-python",
   "name": "python",
   "nbconvert_exporter": "python",
   "pygments_lexer": "ipython3",
   "version": "3.6.9"
  },
  "toc": {
   "base_numbering": 1,
   "nav_menu": {},
   "number_sections": true,
   "sideBar": true,
   "skip_h1_title": false,
   "title_cell": "Table of Contents",
   "title_sidebar": "Contents",
   "toc_cell": false,
   "toc_position": {},
   "toc_section_display": true,
   "toc_window_display": false
  }
 },
 "nbformat": 4,
 "nbformat_minor": 4
}
