{
 "cells": [
  {
   "cell_type": "markdown",
   "metadata": {},
   "source": [
    "# Collecting the data\n"
   ]
  },
  {
   "cell_type": "markdown",
   "metadata": {},
   "source": [
    "## Importing Necessary Libraries\n",
    "First, we need to import the necessary libraries and packages to create this data frame."
   ]
  },
  {
   "cell_type": "code",
   "execution_count": 151,
   "metadata": {},
   "outputs": [],
   "source": [
    "import requests\n",
    "from bs4 import BeautifulSoup \n",
    "import pandas as pd\n",
    "import numpy as np\n",
    "import matplotlib.pyplot as plt"
   ]
  },
  {
   "cell_type": "markdown",
   "metadata": {},
   "source": [
    "## Scraping the Data\n",
    "After establishing the libraries, we can gather the location of our data on the Box Office Mojo webpage. \n",
    "We will abreviate Box Office Mojo as 'BOM' from now on with regard to code. "
   ]
  },
  {
   "cell_type": "code",
   "execution_count": null,
   "metadata": {},
   "outputs": [],
   "source": [
    "#Requests html from website\n",
    "r = requests.get('https://www.boxofficemojo.com/year/2020/?ref_=bo_yl_table_1')\n",
    "#Read HTML with BS\n",
    "soup = BeautifulSoup(r.content, 'html.parser')\n",
    "#find the table element, then grab all table rows (tr)\n",
    "tble = soup.find('table').findAll('tr')\n",
    "'''\n",
    "Add Header code here\n",
    "'''\n",
    "#create master list to store movie data\n",
    "master_lst = []\n",
    "#loop through table rows (aka movies)\n",
    "for tr in tble[1:]:\n",
    "    #create temporary list to store movie data for this loop\n",
    "    movie = []\n",
    "    #find name inside the only 'a' tag\n",
    "    name = tr.find('a').get_text()\n",
    "    #grab all values with lass a-text-right\n",
    "    money= x.findAll(class_='a-text-right')\n",
    "    #grab the indexes for 3-6 since it doesnt change and has the gross data\n",
    "    vals = [x.text for x in money[3:6]]\n",
    "    #add name and extend values to temporary movie list\n",
    "    movie.append(name)\n",
    "    movie.extend(vals)\n",
    "    #append this single movie the master movie list\n",
    "    master_lst.append(movie)"
   ]
  },
  {
   "cell_type": "code",
   "execution_count": null,
   "metadata": {},
   "outputs": [],
   "source": [
    "# first, request the html from the website\n",
    "bom = requests.get(\"https://www.boxofficemojo.com/year/2020/?ref_=bo_yl_table_1\")\n",
    "# use BeautifulSoup package to read the html\n",
    "bom_a_soup = BeautifulSoup(bom.content, 'html.parser')\n",
    "bom_a_table = bom_soup.find('table')\n",
    "bom_a_tr = bom_table.findAll('tr')"
   ]
  },
  {
   "cell_type": "code",
   "execution_count": null,
   "metadata": {},
   "outputs": [],
   "source": [
    "movies_a = bom_a_tr[1:]\n",
    "movies_a"
   ]
  },
  {
   "cell_type": "markdown",
   "metadata": {},
   "source": [
    "## Cleaning the Data"
   ]
  },
  {
   "cell_type": "code",
   "execution_count": 15,
   "metadata": {},
   "outputs": [
    {
     "data": {
      "text/html": [
       "<div>\n",
       "<style scoped>\n",
       "    .dataframe tbody tr th:only-of-type {\n",
       "        vertical-align: middle;\n",
       "    }\n",
       "\n",
       "    .dataframe tbody tr th {\n",
       "        vertical-align: top;\n",
       "    }\n",
       "\n",
       "    .dataframe thead th {\n",
       "        text-align: right;\n",
       "    }\n",
       "</style>\n",
       "<table border=\"1\" class=\"dataframe\">\n",
       "  <thead>\n",
       "    <tr style=\"text-align: right;\">\n",
       "      <th></th>\n",
       "      <th>Title</th>\n",
       "      <th>Year</th>\n",
       "      <th>Worldwide Lifetime Gross</th>\n",
       "      <th>Domestic Lifetime Gross</th>\n",
       "      <th>Domestic %</th>\n",
       "      <th>Foreign Lifetime Gross</th>\n",
       "      <th>Foreign %</th>\n",
       "    </tr>\n",
       "  </thead>\n",
       "  <tbody>\n",
       "    <tr>\n",
       "      <th>0</th>\n",
       "      <td>Avengers: Endgame</td>\n",
       "      <td>2019</td>\n",
       "      <td>$2,797,800,564</td>\n",
       "      <td>$858,373,000</td>\n",
       "      <td>30.7%</td>\n",
       "      <td>$1,939,427,564</td>\n",
       "      <td>69.3%</td>\n",
       "    </tr>\n",
       "    <tr>\n",
       "      <th>1</th>\n",
       "      <td>Avatar</td>\n",
       "      <td>2009</td>\n",
       "      <td>$2,790,439,092</td>\n",
       "      <td>$760,507,625</td>\n",
       "      <td>27.2%</td>\n",
       "      <td>$2,029,931,467</td>\n",
       "      <td>72.8%</td>\n",
       "    </tr>\n",
       "    <tr>\n",
       "      <th>2</th>\n",
       "      <td>Titanic</td>\n",
       "      <td>1997</td>\n",
       "      <td>$2,195,170,133</td>\n",
       "      <td>$659,363,944</td>\n",
       "      <td>30%</td>\n",
       "      <td>$1,535,806,189</td>\n",
       "      <td>70%</td>\n",
       "    </tr>\n",
       "    <tr>\n",
       "      <th>3</th>\n",
       "      <td>Star Wars: Episode VII - The Force Awakens</td>\n",
       "      <td>2015</td>\n",
       "      <td>$2,068,454,133</td>\n",
       "      <td>$936,662,225</td>\n",
       "      <td>45.3%</td>\n",
       "      <td>$1,131,791,908</td>\n",
       "      <td>54.7%</td>\n",
       "    </tr>\n",
       "    <tr>\n",
       "      <th>4</th>\n",
       "      <td>Avengers: Infinity War</td>\n",
       "      <td>2018</td>\n",
       "      <td>$2,048,359,754</td>\n",
       "      <td>$678,815,482</td>\n",
       "      <td>33.1%</td>\n",
       "      <td>$1,369,544,272</td>\n",
       "      <td>66.9%</td>\n",
       "    </tr>\n",
       "    <tr>\n",
       "      <th>...</th>\n",
       "      <td>...</td>\n",
       "      <td>...</td>\n",
       "      <td>...</td>\n",
       "      <td>...</td>\n",
       "      <td>...</td>\n",
       "      <td>...</td>\n",
       "      <td>...</td>\n",
       "    </tr>\n",
       "    <tr>\n",
       "      <th>195</th>\n",
       "      <td>The Revenant</td>\n",
       "      <td>2015</td>\n",
       "      <td>$532,950,503</td>\n",
       "      <td>$183,637,894</td>\n",
       "      <td>34.5%</td>\n",
       "      <td>$349,312,609</td>\n",
       "      <td>65.5%</td>\n",
       "    </tr>\n",
       "    <tr>\n",
       "      <th>196</th>\n",
       "      <td>The Meg</td>\n",
       "      <td>2018</td>\n",
       "      <td>$530,259,473</td>\n",
       "      <td>$145,443,742</td>\n",
       "      <td>27.4%</td>\n",
       "      <td>$384,815,731</td>\n",
       "      <td>72.6%</td>\n",
       "    </tr>\n",
       "    <tr>\n",
       "      <th>197</th>\n",
       "      <td>Ralph Breaks the Internet</td>\n",
       "      <td>2018</td>\n",
       "      <td>$529,323,962</td>\n",
       "      <td>$201,091,711</td>\n",
       "      <td>38%</td>\n",
       "      <td>$328,232,251</td>\n",
       "      <td>62%</td>\n",
       "    </tr>\n",
       "    <tr>\n",
       "      <th>198</th>\n",
       "      <td>Hotel Transylvania 3: Summer Vacation</td>\n",
       "      <td>2018</td>\n",
       "      <td>$528,583,774</td>\n",
       "      <td>$167,510,016</td>\n",
       "      <td>31.7%</td>\n",
       "      <td>$361,073,758</td>\n",
       "      <td>68.3%</td>\n",
       "    </tr>\n",
       "    <tr>\n",
       "      <th>199</th>\n",
       "      <td>The Boss Baby</td>\n",
       "      <td>2017</td>\n",
       "      <td>$527,965,936</td>\n",
       "      <td>$175,003,033</td>\n",
       "      <td>33.2%</td>\n",
       "      <td>$352,962,903</td>\n",
       "      <td>66.8%</td>\n",
       "    </tr>\n",
       "  </tbody>\n",
       "</table>\n",
       "<p>200 rows × 7 columns</p>\n",
       "</div>"
      ],
      "text/plain": [
       "                                          Title  Year  \\\n",
       "0                             Avengers: Endgame  2019   \n",
       "1                                        Avatar  2009   \n",
       "2                                       Titanic  1997   \n",
       "3    Star Wars: Episode VII - The Force Awakens  2015   \n",
       "4                        Avengers: Infinity War  2018   \n",
       "..                                          ...   ...   \n",
       "195                                The Revenant  2015   \n",
       "196                                     The Meg  2018   \n",
       "197                   Ralph Breaks the Internet  2018   \n",
       "198       Hotel Transylvania 3: Summer Vacation  2018   \n",
       "199                               The Boss Baby  2017   \n",
       "\n",
       "    Worldwide Lifetime Gross Domestic Lifetime Gross Domestic %  \\\n",
       "0             $2,797,800,564            $858,373,000      30.7%   \n",
       "1             $2,790,439,092            $760,507,625      27.2%   \n",
       "2             $2,195,170,133            $659,363,944        30%   \n",
       "3             $2,068,454,133            $936,662,225      45.3%   \n",
       "4             $2,048,359,754            $678,815,482      33.1%   \n",
       "..                       ...                     ...        ...   \n",
       "195             $532,950,503            $183,637,894      34.5%   \n",
       "196             $530,259,473            $145,443,742      27.4%   \n",
       "197             $529,323,962            $201,091,711        38%   \n",
       "198             $528,583,774            $167,510,016      31.7%   \n",
       "199             $527,965,936            $175,003,033      33.2%   \n",
       "\n",
       "    Foreign Lifetime Gross Foreign %  \n",
       "0           $1,939,427,564     69.3%  \n",
       "1           $2,029,931,467     72.8%  \n",
       "2           $1,535,806,189       70%  \n",
       "3           $1,131,791,908     54.7%  \n",
       "4           $1,369,544,272     66.9%  \n",
       "..                     ...       ...  \n",
       "195           $349,312,609     65.5%  \n",
       "196           $384,815,731     72.6%  \n",
       "197           $328,232,251       62%  \n",
       "198           $361,073,758     68.3%  \n",
       "199           $352,962,903     66.8%  \n",
       "\n",
       "[200 rows x 7 columns]"
      ]
     },
     "execution_count": 15,
     "metadata": {},
     "output_type": "execute_result"
    }
   ],
   "source": [
    "# load the csv into a new varibale for easy acess and display\n",
    "bom_df = pd.read_csv('BOM_top_200.csv', index_col=0)\n",
    "bom_df"
   ]
  },
  {
   "cell_type": "code",
   "execution_count": 24,
   "metadata": {},
   "outputs": [
    {
     "data": {
      "text/plain": [
       "Title                       object\n",
       "Year                         int64\n",
       "Worldwide Lifetime Gross    object\n",
       "Domestic Lifetime Gross     object\n",
       "Domestic %                  object\n",
       "Foreign Lifetime Gross      object\n",
       "Foreign %                   object\n",
       "dtype: object"
      ]
     },
     "execution_count": 24,
     "metadata": {},
     "output_type": "execute_result"
    }
   ],
   "source": [
    "# check the dtypes for each value in each column to ensure our data is consistant\n",
    "bom_df.dtypes"
   ]
  },
  {
   "cell_type": "code",
   "execution_count": 20,
   "metadata": {},
   "outputs": [
    {
     "data": {
      "text/plain": [
       "Title                       0\n",
       "Year                        0\n",
       "Worldwide Lifetime Gross    0\n",
       "Domestic Lifetime Gross     0\n",
       "Domestic %                  0\n",
       "Foreign Lifetime Gross      0\n",
       "Foreign %                   0\n",
       "dtype: int64"
      ]
     },
     "execution_count": 20,
     "metadata": {},
     "output_type": "execute_result"
    }
   ],
   "source": [
    "# check for any missing values\n",
    "bom_df.isnull().sum()"
   ]
  },
  {
   "cell_type": "code",
   "execution_count": 21,
   "metadata": {
    "scrolled": true
   },
   "outputs": [
    {
     "data": {
      "text/html": [
       "<div>\n",
       "<style scoped>\n",
       "    .dataframe tbody tr th:only-of-type {\n",
       "        vertical-align: middle;\n",
       "    }\n",
       "\n",
       "    .dataframe tbody tr th {\n",
       "        vertical-align: top;\n",
       "    }\n",
       "\n",
       "    .dataframe thead th {\n",
       "        text-align: right;\n",
       "    }\n",
       "</style>\n",
       "<table border=\"1\" class=\"dataframe\">\n",
       "  <thead>\n",
       "    <tr style=\"text-align: right;\">\n",
       "      <th></th>\n",
       "      <th>Title</th>\n",
       "      <th>Year</th>\n",
       "      <th>Worldwide Lifetime Gross</th>\n",
       "      <th>Domestic Lifetime Gross</th>\n",
       "      <th>Domestic %</th>\n",
       "      <th>Foreign Lifetime Gross</th>\n",
       "      <th>Foreign %</th>\n",
       "    </tr>\n",
       "  </thead>\n",
       "  <tbody>\n",
       "    <tr>\n",
       "      <th>0</th>\n",
       "      <td>Avengers: Endgame</td>\n",
       "      <td>2019</td>\n",
       "      <td>2,797,800,564</td>\n",
       "      <td>858,373,000</td>\n",
       "      <td>30.7</td>\n",
       "      <td>1,939,427,564</td>\n",
       "      <td>69.3</td>\n",
       "    </tr>\n",
       "    <tr>\n",
       "      <th>1</th>\n",
       "      <td>Avatar</td>\n",
       "      <td>2009</td>\n",
       "      <td>2,790,439,092</td>\n",
       "      <td>760,507,625</td>\n",
       "      <td>27.2</td>\n",
       "      <td>2,029,931,467</td>\n",
       "      <td>72.8</td>\n",
       "    </tr>\n",
       "    <tr>\n",
       "      <th>2</th>\n",
       "      <td>Titanic</td>\n",
       "      <td>1997</td>\n",
       "      <td>2,195,170,133</td>\n",
       "      <td>659,363,944</td>\n",
       "      <td>30</td>\n",
       "      <td>1,535,806,189</td>\n",
       "      <td>70</td>\n",
       "    </tr>\n",
       "  </tbody>\n",
       "</table>\n",
       "</div>"
      ],
      "text/plain": [
       "               Title  Year Worldwide Lifetime Gross Domestic Lifetime Gross  \\\n",
       "0  Avengers: Endgame  2019            2,797,800,564             858,373,000   \n",
       "1             Avatar  2009            2,790,439,092             760,507,625   \n",
       "2            Titanic  1997            2,195,170,133             659,363,944   \n",
       "\n",
       "  Domestic % Foreign Lifetime Gross Foreign %  \n",
       "0       30.7          1,939,427,564      69.3  \n",
       "1       27.2          2,029,931,467      72.8  \n",
       "2         30          1,535,806,189        70  "
      ]
     },
     "execution_count": 21,
     "metadata": {},
     "output_type": "execute_result"
    }
   ],
   "source": [
    "# Cleaning columns containing characters that make the float an object\n",
    "# left strip $ and right strip % \n",
    "bom_df['Worldwide Lifetime Gross'] = bom_df['Worldwide Lifetime Gross'].map(lambda x: x.lstrip('$'))\n",
    "bom_df['Domestic Lifetime Gross'] = bom_df['Domestic Lifetime Gross'].map(lambda x: x.lstrip('$'))\n",
    "bom_df['Foreign Lifetime Gross'] = bom_df['Foreign Lifetime Gross'].map(lambda x: x.lstrip('$'))\n",
    "bom_df['Domestic %'] = bom_df['Domestic %'].map(lambda x: x.rstrip('%'))\n",
    "bom_df['Foreign %'] = bom_df['Foreign %'].map(lambda x: x.rstrip('%'))\n",
    "# bom_df['Worldwide Lifetime Gross'] = pd.to_numeric(bom_df['Worldwide Lifetime Gross'], errors='coerce')\n",
    "# convert it to float and if there are dashes turn it into NaN\n",
    "# IMDB_TOP1000_movies['gross_earning'] = pd.to_numeric(IMDB_TOP1000_movies['gross_earning'], errors='coerce')\n",
    "bom_df.head(3)"
   ]
  },
  {
   "cell_type": "code",
   "execution_count": 23,
   "metadata": {},
   "outputs": [
    {
     "data": {
      "text/html": [
       "<div>\n",
       "<style scoped>\n",
       "    .dataframe tbody tr th:only-of-type {\n",
       "        vertical-align: middle;\n",
       "    }\n",
       "\n",
       "    .dataframe tbody tr th {\n",
       "        vertical-align: top;\n",
       "    }\n",
       "\n",
       "    .dataframe thead th {\n",
       "        text-align: right;\n",
       "    }\n",
       "</style>\n",
       "<table border=\"1\" class=\"dataframe\">\n",
       "  <thead>\n",
       "    <tr style=\"text-align: right;\">\n",
       "      <th></th>\n",
       "      <th>Title</th>\n",
       "      <th>Year</th>\n",
       "      <th>Worldwide Lifetime Gross</th>\n",
       "      <th>Domestic Lifetime Gross</th>\n",
       "      <th>Domestic %</th>\n",
       "      <th>Foreign Lifetime Gross</th>\n",
       "      <th>Foreign %</th>\n",
       "    </tr>\n",
       "  </thead>\n",
       "  <tbody>\n",
       "    <tr>\n",
       "      <th>0</th>\n",
       "      <td>Avengers: Endgame</td>\n",
       "      <td>2019</td>\n",
       "      <td>2797800564</td>\n",
       "      <td>858373000</td>\n",
       "      <td>30.7</td>\n",
       "      <td>1939427564</td>\n",
       "      <td>69.3</td>\n",
       "    </tr>\n",
       "    <tr>\n",
       "      <th>1</th>\n",
       "      <td>Avatar</td>\n",
       "      <td>2009</td>\n",
       "      <td>2790439092</td>\n",
       "      <td>760507625</td>\n",
       "      <td>27.2</td>\n",
       "      <td>2029931467</td>\n",
       "      <td>72.8</td>\n",
       "    </tr>\n",
       "    <tr>\n",
       "      <th>2</th>\n",
       "      <td>Titanic</td>\n",
       "      <td>1997</td>\n",
       "      <td>2195170133</td>\n",
       "      <td>659363944</td>\n",
       "      <td>30</td>\n",
       "      <td>1535806189</td>\n",
       "      <td>70</td>\n",
       "    </tr>\n",
       "    <tr>\n",
       "      <th>3</th>\n",
       "      <td>Star Wars: Episode VII - The Force Awakens</td>\n",
       "      <td>2015</td>\n",
       "      <td>2068454133</td>\n",
       "      <td>936662225</td>\n",
       "      <td>45.3</td>\n",
       "      <td>1131791908</td>\n",
       "      <td>54.7</td>\n",
       "    </tr>\n",
       "    <tr>\n",
       "      <th>4</th>\n",
       "      <td>Avengers: Infinity War</td>\n",
       "      <td>2018</td>\n",
       "      <td>2048359754</td>\n",
       "      <td>678815482</td>\n",
       "      <td>33.1</td>\n",
       "      <td>1369544272</td>\n",
       "      <td>66.9</td>\n",
       "    </tr>\n",
       "  </tbody>\n",
       "</table>\n",
       "</div>"
      ],
      "text/plain": [
       "                                        Title  Year Worldwide Lifetime Gross  \\\n",
       "0                           Avengers: Endgame  2019               2797800564   \n",
       "1                                      Avatar  2009               2790439092   \n",
       "2                                     Titanic  1997               2195170133   \n",
       "3  Star Wars: Episode VII - The Force Awakens  2015               2068454133   \n",
       "4                      Avengers: Infinity War  2018               2048359754   \n",
       "\n",
       "  Domestic Lifetime Gross Domestic % Foreign Lifetime Gross Foreign %  \n",
       "0               858373000       30.7             1939427564      69.3  \n",
       "1               760507625       27.2             2029931467      72.8  \n",
       "2               659363944         30             1535806189        70  \n",
       "3               936662225       45.3             1131791908      54.7  \n",
       "4               678815482       33.1             1369544272      66.9  "
      ]
     },
     "execution_count": 23,
     "metadata": {},
     "output_type": "execute_result"
    }
   ],
   "source": [
    "# remove all commas from numeric values to convert dype\n",
    "bom_df['Worldwide Lifetime Gross'] = bom_df['Worldwide Lifetime Gross'].str.replace(',', '')\n",
    "bom_df['Domestic Lifetime Gross'] = bom_df['Domestic Lifetime Gross'].str.replace(',', '')\n",
    "bom_df['Foreign Lifetime Gross'] = bom_df['Foreign Lifetime Gross'].str.replace(',', '')\n",
    "bom_df.head()"
   ]
  },
  {
   "cell_type": "code",
   "execution_count": 36,
   "metadata": {},
   "outputs": [],
   "source": [
    "# change the dtypes for all gross values from object to integer\n",
    "bom_df['Worldwide Lifetime Gross'] = pd.to_numeric(bom_df['Worldwide Lifetime Gross'], errors='coerce')\n",
    "bom_df['Domestic Lifetime Gross'] = pd.to_numeric(bom_df['Domestic Lifetime Gross'], errors='coerce')\n",
    "bom_df['Foreign Lifetime Gross'] = pd.to_numeric(bom_df['Foreign Lifetime Gross'], errors='coerce')"
   ]
  },
  {
   "cell_type": "code",
   "execution_count": 37,
   "metadata": {},
   "outputs": [
    {
     "data": {
      "text/plain": [
       "Title                       object\n",
       "Year                         int64\n",
       "Worldwide Lifetime Gross     int64\n",
       "Domestic Lifetime Gross      int64\n",
       "Domestic %                  object\n",
       "Foreign Lifetime Gross       int64\n",
       "Foreign %                   object\n",
       "dtype: object"
      ]
     },
     "execution_count": 37,
     "metadata": {},
     "output_type": "execute_result"
    }
   ],
   "source": [
    "# check the updated dtypes\n",
    "bom_df.dtypes"
   ]
  },
  {
   "cell_type": "code",
   "execution_count": 34,
   "metadata": {},
   "outputs": [
    {
     "data": {
      "text/html": [
       "<div>\n",
       "<style scoped>\n",
       "    .dataframe tbody tr th:only-of-type {\n",
       "        vertical-align: middle;\n",
       "    }\n",
       "\n",
       "    .dataframe tbody tr th {\n",
       "        vertical-align: top;\n",
       "    }\n",
       "\n",
       "    .dataframe thead th {\n",
       "        text-align: right;\n",
       "    }\n",
       "</style>\n",
       "<table border=\"1\" class=\"dataframe\">\n",
       "  <thead>\n",
       "    <tr style=\"text-align: right;\">\n",
       "      <th></th>\n",
       "      <th>Title</th>\n",
       "      <th>Year</th>\n",
       "      <th>Worldwide Lifetime Gross</th>\n",
       "      <th>Domestic Lifetime Gross</th>\n",
       "      <th>Domestic %</th>\n",
       "      <th>Foreign Lifetime Gross</th>\n",
       "      <th>Foreign %</th>\n",
       "    </tr>\n",
       "  </thead>\n",
       "  <tbody>\n",
       "    <tr>\n",
       "      <th>0</th>\n",
       "      <td>Avengers: Endgame</td>\n",
       "      <td>2019</td>\n",
       "      <td>2797800564</td>\n",
       "      <td>858373000</td>\n",
       "      <td>30.7</td>\n",
       "      <td>1939427564</td>\n",
       "      <td>69.3</td>\n",
       "    </tr>\n",
       "    <tr>\n",
       "      <th>1</th>\n",
       "      <td>Avatar</td>\n",
       "      <td>2009</td>\n",
       "      <td>2790439092</td>\n",
       "      <td>760507625</td>\n",
       "      <td>27.2</td>\n",
       "      <td>2029931467</td>\n",
       "      <td>72.8</td>\n",
       "    </tr>\n",
       "    <tr>\n",
       "      <th>2</th>\n",
       "      <td>Titanic</td>\n",
       "      <td>1997</td>\n",
       "      <td>2195170133</td>\n",
       "      <td>659363944</td>\n",
       "      <td>30</td>\n",
       "      <td>1535806189</td>\n",
       "      <td>70</td>\n",
       "    </tr>\n",
       "    <tr>\n",
       "      <th>3</th>\n",
       "      <td>Star Wars: Episode VII - The Force Awakens</td>\n",
       "      <td>2015</td>\n",
       "      <td>2068454133</td>\n",
       "      <td>936662225</td>\n",
       "      <td>45.3</td>\n",
       "      <td>1131791908</td>\n",
       "      <td>54.7</td>\n",
       "    </tr>\n",
       "    <tr>\n",
       "      <th>4</th>\n",
       "      <td>Avengers: Infinity War</td>\n",
       "      <td>2018</td>\n",
       "      <td>2048359754</td>\n",
       "      <td>678815482</td>\n",
       "      <td>33.1</td>\n",
       "      <td>1369544272</td>\n",
       "      <td>66.9</td>\n",
       "    </tr>\n",
       "  </tbody>\n",
       "</table>\n",
       "</div>"
      ],
      "text/plain": [
       "                                        Title  Year  Worldwide Lifetime Gross  \\\n",
       "0                           Avengers: Endgame  2019                2797800564   \n",
       "1                                      Avatar  2009                2790439092   \n",
       "2                                     Titanic  1997                2195170133   \n",
       "3  Star Wars: Episode VII - The Force Awakens  2015                2068454133   \n",
       "4                      Avengers: Infinity War  2018                2048359754   \n",
       "\n",
       "  Domestic Lifetime Gross Domestic % Foreign Lifetime Gross Foreign %  \n",
       "0               858373000       30.7             1939427564      69.3  \n",
       "1               760507625       27.2             2029931467      72.8  \n",
       "2               659363944         30             1535806189        70  \n",
       "3               936662225       45.3             1131791908      54.7  \n",
       "4               678815482       33.1             1369544272      66.9  "
      ]
     },
     "execution_count": 34,
     "metadata": {},
     "output_type": "execute_result"
    }
   ],
   "source": [
    "bom_df.head()"
   ]
  },
  {
   "cell_type": "code",
   "execution_count": 71,
   "metadata": {},
   "outputs": [],
   "source": [
    "# convert the remaining uncessecary objects into floats\n",
    "bom_df['Domestic %'] = pd.to_numeric(bom_df['Domestic %'], errors='coerce')\n",
    "bom_df['Foreign %'] = pd.to_numeric(bom_df['Foreign %'], errors='coerce')"
   ]
  },
  {
   "cell_type": "code",
   "execution_count": 72,
   "metadata": {},
   "outputs": [
    {
     "data": {
      "text/plain": [
       "Title                        object\n",
       "Year                          int64\n",
       "Worldwide Lifetime Gross      int64\n",
       "Domestic Lifetime Gross       int64\n",
       "Domestic %                  float64\n",
       "Foreign Lifetime Gross        int64\n",
       "Foreign %                   float64\n",
       "dtype: object"
      ]
     },
     "execution_count": 72,
     "metadata": {},
     "output_type": "execute_result"
    }
   ],
   "source": [
    "bom_df.dtypes"
   ]
  },
  {
   "cell_type": "code",
   "execution_count": 74,
   "metadata": {},
   "outputs": [],
   "source": [
    "bom_df.to_csv('cleaned BOM_top_200.csv')"
   ]
  },
  {
   "cell_type": "code",
   "execution_count": 75,
   "metadata": {},
   "outputs": [],
   "source": [
    "df = pd.read_csv('cleaned BOM_top_200.csv')"
   ]
  },
  {
   "cell_type": "code",
   "execution_count": 114,
   "metadata": {
    "scrolled": false
   },
   "outputs": [
    {
     "data": {
      "text/html": [
       "<div>\n",
       "<style scoped>\n",
       "    .dataframe tbody tr th:only-of-type {\n",
       "        vertical-align: middle;\n",
       "    }\n",
       "\n",
       "    .dataframe tbody tr th {\n",
       "        vertical-align: top;\n",
       "    }\n",
       "\n",
       "    .dataframe thead th {\n",
       "        text-align: right;\n",
       "    }\n",
       "</style>\n",
       "<table border=\"1\" class=\"dataframe\">\n",
       "  <thead>\n",
       "    <tr style=\"text-align: right;\">\n",
       "      <th></th>\n",
       "      <th>Unnamed: 0</th>\n",
       "      <th>Title</th>\n",
       "      <th>Year</th>\n",
       "      <th>Worldwide Lifetime Gross</th>\n",
       "      <th>Domestic Lifetime Gross</th>\n",
       "      <th>Domestic %</th>\n",
       "      <th>Foreign Lifetime Gross</th>\n",
       "      <th>Foreign %</th>\n",
       "    </tr>\n",
       "  </thead>\n",
       "  <tbody>\n",
       "    <tr>\n",
       "      <th>0</th>\n",
       "      <td>0</td>\n",
       "      <td>Avengers: Endgame</td>\n",
       "      <td>2019</td>\n",
       "      <td>2797800564</td>\n",
       "      <td>858373000</td>\n",
       "      <td>30.7</td>\n",
       "      <td>1939427564</td>\n",
       "      <td>69.3</td>\n",
       "    </tr>\n",
       "    <tr>\n",
       "      <th>1</th>\n",
       "      <td>1</td>\n",
       "      <td>Avatar</td>\n",
       "      <td>2009</td>\n",
       "      <td>2790439092</td>\n",
       "      <td>760507625</td>\n",
       "      <td>27.2</td>\n",
       "      <td>2029931467</td>\n",
       "      <td>72.8</td>\n",
       "    </tr>\n",
       "    <tr>\n",
       "      <th>2</th>\n",
       "      <td>2</td>\n",
       "      <td>Titanic</td>\n",
       "      <td>1997</td>\n",
       "      <td>2195170133</td>\n",
       "      <td>659363944</td>\n",
       "      <td>30.0</td>\n",
       "      <td>1535806189</td>\n",
       "      <td>70.0</td>\n",
       "    </tr>\n",
       "    <tr>\n",
       "      <th>3</th>\n",
       "      <td>3</td>\n",
       "      <td>Star Wars: Episode VII - The Force Awakens</td>\n",
       "      <td>2015</td>\n",
       "      <td>2068454133</td>\n",
       "      <td>936662225</td>\n",
       "      <td>45.3</td>\n",
       "      <td>1131791908</td>\n",
       "      <td>54.7</td>\n",
       "    </tr>\n",
       "    <tr>\n",
       "      <th>4</th>\n",
       "      <td>4</td>\n",
       "      <td>Avengers: Infinity War</td>\n",
       "      <td>2018</td>\n",
       "      <td>2048359754</td>\n",
       "      <td>678815482</td>\n",
       "      <td>33.1</td>\n",
       "      <td>1369544272</td>\n",
       "      <td>66.9</td>\n",
       "    </tr>\n",
       "    <tr>\n",
       "      <th>5</th>\n",
       "      <td>5</td>\n",
       "      <td>Jurassic World</td>\n",
       "      <td>2015</td>\n",
       "      <td>1670401444</td>\n",
       "      <td>652270625</td>\n",
       "      <td>39.0</td>\n",
       "      <td>1018130819</td>\n",
       "      <td>61.0</td>\n",
       "    </tr>\n",
       "    <tr>\n",
       "      <th>6</th>\n",
       "      <td>6</td>\n",
       "      <td>The Lion King</td>\n",
       "      <td>2019</td>\n",
       "      <td>1657138876</td>\n",
       "      <td>543638043</td>\n",
       "      <td>32.8</td>\n",
       "      <td>1113500833</td>\n",
       "      <td>67.2</td>\n",
       "    </tr>\n",
       "    <tr>\n",
       "      <th>7</th>\n",
       "      <td>7</td>\n",
       "      <td>The Avengers</td>\n",
       "      <td>2012</td>\n",
       "      <td>1518815515</td>\n",
       "      <td>623357910</td>\n",
       "      <td>41.0</td>\n",
       "      <td>895457605</td>\n",
       "      <td>59.0</td>\n",
       "    </tr>\n",
       "    <tr>\n",
       "      <th>8</th>\n",
       "      <td>8</td>\n",
       "      <td>Furious 7</td>\n",
       "      <td>2015</td>\n",
       "      <td>1515253062</td>\n",
       "      <td>353007020</td>\n",
       "      <td>23.3</td>\n",
       "      <td>1162246042</td>\n",
       "      <td>76.7</td>\n",
       "    </tr>\n",
       "    <tr>\n",
       "      <th>9</th>\n",
       "      <td>9</td>\n",
       "      <td>Frozen II</td>\n",
       "      <td>2019</td>\n",
       "      <td>1450026933</td>\n",
       "      <td>477373578</td>\n",
       "      <td>32.9</td>\n",
       "      <td>972653355</td>\n",
       "      <td>67.1</td>\n",
       "    </tr>\n",
       "  </tbody>\n",
       "</table>\n",
       "</div>"
      ],
      "text/plain": [
       "   Unnamed: 0                                       Title  Year  \\\n",
       "0           0                           Avengers: Endgame  2019   \n",
       "1           1                                      Avatar  2009   \n",
       "2           2                                     Titanic  1997   \n",
       "3           3  Star Wars: Episode VII - The Force Awakens  2015   \n",
       "4           4                      Avengers: Infinity War  2018   \n",
       "5           5                              Jurassic World  2015   \n",
       "6           6                               The Lion King  2019   \n",
       "7           7                                The Avengers  2012   \n",
       "8           8                                   Furious 7  2015   \n",
       "9           9                                   Frozen II  2019   \n",
       "\n",
       "   Worldwide Lifetime Gross  Domestic Lifetime Gross  Domestic %  \\\n",
       "0                2797800564                858373000        30.7   \n",
       "1                2790439092                760507625        27.2   \n",
       "2                2195170133                659363944        30.0   \n",
       "3                2068454133                936662225        45.3   \n",
       "4                2048359754                678815482        33.1   \n",
       "5                1670401444                652270625        39.0   \n",
       "6                1657138876                543638043        32.8   \n",
       "7                1518815515                623357910        41.0   \n",
       "8                1515253062                353007020        23.3   \n",
       "9                1450026933                477373578        32.9   \n",
       "\n",
       "   Foreign Lifetime Gross  Foreign %  \n",
       "0              1939427564       69.3  \n",
       "1              2029931467       72.8  \n",
       "2              1535806189       70.0  \n",
       "3              1131791908       54.7  \n",
       "4              1369544272       66.9  \n",
       "5              1018130819       61.0  \n",
       "6              1113500833       67.2  \n",
       "7               895457605       59.0  \n",
       "8              1162246042       76.7  \n",
       "9               972653355       67.1  "
      ]
     },
     "execution_count": 114,
     "metadata": {},
     "output_type": "execute_result"
    }
   ],
   "source": [
    "df.sort_values(by = 'Worldwide Lifetime Gross', ascending = 0)[0:10]"
   ]
  },
  {
   "cell_type": "code",
   "execution_count": 207,
   "metadata": {},
   "outputs": [
    {
     "data": {
      "text/plain": [
       "array([2797.800564, 2790.439092, 2195.170133, 2068.454133, 2048.359754])"
      ]
     },
     "execution_count": 207,
     "metadata": {},
     "output_type": "execute_result"
    }
   ],
   "source": [
    "df.loc[:,'Worldwide Lifetime Gross'].sort_values(ascending=False)[0:5].values/10**6"
   ]
  },
  {
   "cell_type": "code",
   "execution_count": null,
   "metadata": {},
   "outputs": [],
   "source": [
    "# using ranking bar\n",
    "# top 5 ww lt gross\n",
    "# in butterfly: \n",
    "# top 5 gross : left dom, right fore\n",
    "# find movies comparable to top earner... what genre is it? which movies also have that g "
   ]
  },
  {
   "cell_type": "code",
   "execution_count": 218,
   "metadata": {},
   "outputs": [],
   "source": [
    "# frist, make sure the values are sorted by ww lifetime gross\n",
    "df.sort_values(by = ['Worldwide Lifetime Gross'], ascending = False)\n",
    "# isoltae the column needed\n",
    "df.sort_values(by = ['Worldwide Lifetime Gross'], ascending = False)['Worldwide Lifetime Gross']\n",
    "# grab the top 5 values\n",
    "df.sort_values(by = ['Worldwide Lifetime Gross'], ascending = False)['Worldwide Lifetime Gross'][0:5].values\n",
    "# assign to a variable\n",
    "wwy = df.sort_values(by = ['Worldwide Lifetime Gross'], ascending = False)['Worldwide Lifetime Gross'][0:5].values/10**9\n",
    "# grab the names of the top 5 values and assign to a variable\n",
    "wwx = df.sort_values(by = ['Worldwide Lifetime Gross'], ascending = False)['Title'][0:5].values"
   ]
  },
  {
   "cell_type": "code",
   "execution_count": 224,
   "metadata": {},
   "outputs": [
    {
     "data": {
      "text/plain": [
       "Text(0.5, 0, 'Gross Earning')"
      ]
     },
     "execution_count": 224,
     "metadata": {},
     "output_type": "execute_result"
    },
    {
     "data": {
      "image/png": "[encoded data removed]",
      "text/plain": [
       "<Figure size 432x288 with 1 Axes>"
      ]
     },
     "metadata": {
      "needs_background": "light"
     },
     "output_type": "display_data"
    }
   ],
   "source": [
    "plt.barh(wwx,wwy, color = 'b')\n",
    "plt.title('Top 5 Worldwide Lifetime Movie Grossing')\n",
    "plt.xlabel('Gross Earning')"
   ]
  },
  {
   "cell_type": "code",
   "execution_count": 216,
   "metadata": {},
   "outputs": [],
   "source": [
    "# domestic values\n",
    "domy = df.sort_values(by = ['Domestic Lifetime Gross'], ascending = False)['Domestic Lifetime Gross'][0:5].values/10**6\n",
    "domx = df.sort_values(by = ['Domestic Lifetime Gross'], ascending = False)['Title'][0:5].values"
   ]
  },
  {
   "cell_type": "code",
   "execution_count": 223,
   "metadata": {},
   "outputs": [
    {
     "data": {
      "text/plain": [
       "Text(0.5, 0, 'Gross Earning')"
      ]
     },
     "execution_count": 223,
     "metadata": {},
     "output_type": "execute_result"
    },
    {
     "data": {
      "image/png": "[encoded data removed]",
      "text/plain": [
       "<Figure size 432x288 with 1 Axes>"
      ]
     },
     "metadata": {
      "needs_background": "light"
     },
     "output_type": "display_data"
    }
   ],
   "source": [
    "plt.barh(domx,domy, color = 'r')\n",
    "plt.title('Top 5 Domestic Lifetime Movie Grossing')\n",
    "plt.xlabel('Gross Earning')"
   ]
  },
  {
   "cell_type": "code",
   "execution_count": 212,
   "metadata": {},
   "outputs": [],
   "source": [
    "# foreign values\n",
    "fory = df.sort_values(by = ['Foreign Lifetime Gross'], ascending = False)['Foreign Lifetime Gross'][0:5].values/10**9\n",
    "forx = df.sort_values(by = ['Foreign Lifetime Gross'], ascending = False)['Title'][0:5].values"
   ]
  },
  {
   "cell_type": "code",
   "execution_count": 227,
   "metadata": {},
   "outputs": [
    {
     "data": {
      "image/png": "[encoded data removed]",
      "text/plain": [
       "<Figure size 432x288 with 1 Axes>"
      ]
     },
     "metadata": {
      "needs_background": "light"
     },
     "output_type": "display_data"
    }
   ],
   "source": [
    "plt.barh(forx,fory, color = 'g')\n",
    "plt.title('Top 5 Foreign Lifetime Movie Grossing')\n",
    "plt.xlabel('Gross Earning')\n",
    "plt.savefig('foreign grossing.png')"
   ]
  },
  {
   "cell_type": "code",
   "execution_count": null,
   "metadata": {},
   "outputs": [],
   "source": []
  }
 ],
 "metadata": {
  "kernelspec": {
   "display_name": "learn-env",
   "language": "python",
   "name": "learn-env"
  },
  "language_info": {
   "codemirror_mode": {
    "name": "ipython",
    "version": 3
   },
   "file_extension": ".py",
   "mimetype": "text/x-python",
   "name": "python",
   "nbconvert_exporter": "python",
   "pygments_lexer": "ipython3",
   "version": "3.6.9"
  },
  "toc": {
   "base_numbering": 1,
   "nav_menu": {},
   "number_sections": true,
   "sideBar": true,
   "skip_h1_title": false,
   "title_cell": "Table of Contents",
   "title_sidebar": "Contents",
   "toc_cell": false,
   "toc_position": {},
   "toc_section_display": true,
   "toc_window_display": false
  }
 },
 "nbformat": 4,
 "nbformat_minor": 4
}
