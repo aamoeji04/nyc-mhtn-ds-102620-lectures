{
 "cells": [
  {
   "cell_type": "code",
   "execution_count": 1,
   "metadata": {},
   "outputs": [],
   "source": [
    "# import needed modules\n",
    "import time\n",
    "import winsound"
   ]
  },
  {
   "cell_type": "code",
   "execution_count": 2,
   "metadata": {},
   "outputs": [],
   "source": [
    "# define new function\n",
    "def pom_tech(nput): \n",
    "#     use while loop to set conditions\n",
    "    while nput: \n",
    "        mins, secs = divmod(nput, 60) # divide nput by 60 to get both minutes and seconds values\n",
    "        timer = '{:02d}:{:02d}'.format(mins, secs) # format the timer\n",
    "        print(timer, end=\"\\r\") # print in timer format the remaining time\n",
    "        time.sleep(1) # tell the system to countdown in intervals of 1 second\n",
    "        nput -= 1 # take 1 second away from each remaining second"
   ]
  },
  {
   "cell_type": "code",
   "execution_count": 3,
   "metadata": {},
   "outputs": [
    {
     "name": "stdout",
     "output_type": "stream",
     "text": [
      "How long do you want to study round 1? (in seconds): 5\n",
      "Pomodoro: 1\n",
      "Short Break!!\n",
      "How long is your short break? (in seconds): 2\n",
      "How long do you want to study round 2? (in seconds): 5\n",
      "Pomodoro: 2\n",
      "Short Break!!\n",
      "How long is your short break? (in seconds): 2\n",
      "How long do you want to study round 3? (in seconds): 5\n",
      "Pomodoro: 3\n",
      "Short Break!!\n",
      "How long is your short break? (in seconds): 2\n",
      "How long do you want to study round 4? (in seconds): 5\n",
      "Pomodoro: 4\n",
      "Long Break!!\n",
      "How long is your long break? (in seconds): 10\n",
      "00:01\r"
     ]
    }
   ],
   "source": [
    "# input time in seconds \n",
    "nput = input(\"How long do you want to study round 1? (in seconds): \") \n",
    "# call function\n",
    "pom_tech(int(nput))\n",
    "\n",
    "pomodoro = 1\n",
    "# set sound conditionals\n",
    "while pomodoro < 4:\n",
    "    if pomodoro == 1:\n",
    "        print('Pomodoro: '+ str(pomodoro))\n",
    "    print('Short Break!!')\n",
    "    frequency = 3500 \n",
    "    duration = 1000\n",
    "    winsound.Beep(frequency, duration) # make a sound when the timer goes off\n",
    "    nput2 = input(\"How long is your short break? (in seconds): \") \n",
    "    pom_tech(int(nput2))\n",
    "    frequency  = 1000\n",
    "    duration = 1000\n",
    "    winsound.Beep(frequency, duration)\n",
    "    pomodoro += 1\n",
    "    if pomodoro == 2:\n",
    "        nput = input(\"How long do you want to study round 2? (in seconds): \") \n",
    "        pom_tech(int(nput))\n",
    "        print('Pomodoro: '+ str(pomodoro))\n",
    "    elif pomodoro == 3:\n",
    "        nput = input(\"How long do you want to study round 3? (in seconds): \") \n",
    "        pom_tech(int(nput))\n",
    "        print('Pomodoro: '+ str(pomodoro))\n",
    "    elif pomodoro == 4:\n",
    "        nput = input(\"How long do you want to study round 4? (in seconds): \") \n",
    "        pom_tech(int(nput))\n",
    "        print('Pomodoro: '+ str(pomodoro))\n",
    "else:\n",
    "    print('Long Break!!') \n",
    "    frequency = 200\n",
    "    duration = 1000\n",
    "    winsound.Beep(frequency, duration)\n",
    "    \n",
    "nput3 = input(\"How long is your long break? (in seconds): \")\n",
    "pom_tech(int(nput3))\n",
    "frequency  = 3500\n",
    "duration = 1000\n",
    "winsound.Beep(frequency, duration)"
   ]
  }
 ],
 "metadata": {
  "kernelspec": {
   "display_name": "learn-env",
   "language": "python",
   "name": "learn-env"
  },
  "language_info": {
   "codemirror_mode": {
    "name": "ipython",
    "version": 3
   },
   "file_extension": ".py",
   "mimetype": "text/x-python",
   "name": "python",
   "nbconvert_exporter": "python",
   "pygments_lexer": "ipython3",
   "version": "3.6.9"
  },
  "toc": {
   "base_numbering": 1,
   "nav_menu": {},
   "number_sections": true,
   "sideBar": true,
   "skip_h1_title": false,
   "title_cell": "Table of Contents",
   "title_sidebar": "Contents",
   "toc_cell": false,
   "toc_position": {},
   "toc_section_display": true,
   "toc_window_display": false
  }
 },
 "nbformat": 4,
 "nbformat_minor": 4
}
